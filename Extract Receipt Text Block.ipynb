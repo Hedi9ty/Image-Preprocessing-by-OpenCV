{
 "cells": [
  {
   "cell_type": "markdown",
   "metadata": {},
   "source": [
    "# Import necessary packages"
   ]
  },
  {
   "cell_type": "code",
   "execution_count": null,
   "metadata": {},
   "outputs": [],
   "source": [
    "from pyimagesearch.transform import four_point_transform\n",
    "from imutils import perspective\n",
    "from keras.preprocessing import image\n",
    "from skimage.filters import threshold_local\n",
    "import cv2\n",
    "import imutils\n",
    "import matplotlib.pyplot as plt\n",
    "import numpy as np\n",
    "%matplotlib inline"
   ]
  },
  {
   "cell_type": "markdown",
   "metadata": {},
   "source": [
    "# Extract Image Block"
   ]
  },
  {
   "cell_type": "code",
   "execution_count": null,
   "metadata": {},
   "outputs": [],
   "source": [
    "Path = r'C:\\Users\\hedho\\Desktop\\Photo OCR\\Receipt\\R.jpg'        "
   ]
  },
  {
   "cell_type": "code",
   "execution_count": null,
   "metadata": {},
   "outputs": [],
   "source": [
    "def ExtractImageBlock(Path):\n",
    "\n",
    "    # load the image and compute the ratio of the old height\n",
    "    # to the new height, clone it, and resize it\n",
    "\n",
    "    img = cv2.imread(Path)\n",
    "    ratio = img.shape[0] / 500.0\n",
    "    orig = img.copy()\n",
    "    img = imutils.resize(img, height = 500)\n",
    " \n",
    "    # convert the image to grayscale, blur it, and find edges\n",
    "    # in the image\n",
    "    gray = cv2.cvtColor(img, cv2.COLOR_BGR2GRAY)\n",
    "    gray = cv2.GaussianBlur(gray, (5, 5), 0)\n",
    "    edged = cv2.Canny(gray, 75, 200)\n",
    "\n",
    "    # find the contours in the edged image, keeping only the\n",
    "    # largest ones, and initialize the screen contour\n",
    "    cnts = cv2.findContours(edged.copy(), cv2.RETR_LIST, cv2.CHAIN_APPROX_SIMPLE)\n",
    "    cnts = cnts[0] if imutils.is_cv2() else cnts[1]\n",
    "    cnts = sorted(cnts, key = cv2.contourArea, reverse = True)[:5]\n",
    " \n",
    "    blk = []\n",
    "    # loop over the contours\n",
    "    for c in cnts:\n",
    "        # approximate the contour\n",
    "        peri = cv2.arcLength(c, True)\n",
    "        approx = cv2.approxPolyDP(c, 0.02 * peri, True)\n",
    " \n",
    "        # if our approximated contour has four points, then we\n",
    "        # can assume that we have found our screen\n",
    "        if len(approx) == 4:\n",
    "            screenCnt = approx\n",
    "        break\n",
    "\n",
    "    imgblk = perspective.four_point_transform(orig, screenCnt.reshape(4, 2) * ratio)\n",
    "    \n",
    "    return imgblk"
   ]
  },
  {
   "cell_type": "markdown",
   "metadata": {},
   "source": [
    "# Extract Text Block"
   ]
  },
  {
   "cell_type": "code",
   "execution_count": null,
   "metadata": {},
   "outputs": [],
   "source": [
    "image = ExtractImageBlock(Path)"
   ]
  },
  {
   "cell_type": "code",
   "execution_count": null,
   "metadata": {},
   "outputs": [],
   "source": [
    "def ExtractTextBlock(image):\n",
    "    \n",
    "    gray = cv2.cvtColor(img, cv2.COLOR_BGR2GRAY)\n",
    "    morph = cv2.morphologyEx(gray, cv2.MORPH_CLOSE, cv2.getStructuringElement(cv2.MORPH_ELLIPSE, (3, 3)))\n",
    "    _,binary = cv2.threshold(morph,0,255,cv2.THRESH_BINARY_INV+cv2.THRESH_OTSU)\n",
    "    morphex = cv2.morphologyEx(binary, cv2.MORPH_CLOSE, cv2.getStructuringElement(cv2.MORPH_RECT, (80, 5)))\n",
    "    \n",
    "    _, contours, _ = cv2.findContours(morphex,cv2.RETR_EXTERNAL,cv2.CHAIN_APPROX_SIMPLE)\n",
    "    con = cv2.drawContours(img.copy(), contours, -1, (0, 255, 0), 2)\n",
    "\n",
    "    cord = []\n",
    "    for contour in contours:\n",
    "        # get rectangle bounding contour\n",
    "        [x, y, w, h] = cv2.boundingRect(contour)\n",
    "        \n",
    "        if (w<10) or (h<10):\n",
    "            continue\n",
    "    \n",
    "        cord.append([max(0,x-10), max(0,y-10), w+10, h+10])\n",
    "        \n",
    "        # draw rectangle around contour on original image\n",
    "        cv2.rectangle(img.copy(), (x, y), (x + w, y + h), (0, 255, 0), 3)\n",
    "        \n",
    "    ocr = []\n",
    "    for i in range(1,len(cord)):\n",
    "        x, y, w, h = cord[-i]\n",
    "        text = cv2.cvtColor(img.copy(), cv2.COLOR_BGR2GRAY)\n",
    "        crop_img = text[max(0,y):y+h, max(0,x):x+w]\n",
    "   \n",
    "    return ocr"
   ]
  },
  {
   "cell_type": "code",
   "execution_count": null,
   "metadata": {},
   "outputs": [],
   "source": [
    "for i in ocr:\n",
    "    plt.figure(figsize=(10,20))\n",
    "    plt.imshow(i, cmap = 'gray')"
   ]
  }
 ],
 "metadata": {
  "kernelspec": {
   "display_name": "Python 3",
   "language": "python",
   "name": "python3"
  },
  "language_info": {
   "codemirror_mode": {
    "name": "ipython",
    "version": 3
   },
   "file_extension": ".py",
   "mimetype": "text/x-python",
   "name": "python",
   "nbconvert_exporter": "python",
   "pygments_lexer": "ipython3",
   "version": "3.6.5"
  }
 },
 "nbformat": 4,
 "nbformat_minor": 2
}
